{
 "cells": [
  {
   "cell_type": "code",
   "execution_count": 1,
   "id": "5fbac5d8",
   "metadata": {},
   "outputs": [],
   "source": [
    "from pyspark.sql import SparkSession"
   ]
  },
  {
   "cell_type": "code",
   "execution_count": 2,
   "id": "a7d60aac",
   "metadata": {},
   "outputs": [],
   "source": [
    "spark =SparkSession.builder.appName(\"ML\").getOrCreate()"
   ]
  },
  {
   "cell_type": "code",
   "execution_count": 7,
   "id": "04eb01e7",
   "metadata": {},
   "outputs": [],
   "source": [
    "training=spark.read.csv(\"test1_4.csv\",header=True,inferSchema=True)"
   ]
  },
  {
   "cell_type": "code",
   "execution_count": 8,
   "id": "576a0fd2",
   "metadata": {},
   "outputs": [
    {
     "name": "stdout",
     "output_type": "stream",
     "text": [
      "+----+---+----------+------+\n",
      "|Name|age|Experience|Salary|\n",
      "+----+---+----------+------+\n",
      "|   A| 20|         2| 30000|\n",
      "|   B| 32|         1| 20000|\n",
      "|   C| 25|         3| 10000|\n",
      "|   D| 40|         5| 32000|\n",
      "|   E| 30|         1| 14000|\n",
      "|   F| 14|         3| 30000|\n",
      "+----+---+----------+------+\n",
      "\n"
     ]
    }
   ],
   "source": [
    "training.show()"
   ]
  },
  {
   "cell_type": "code",
   "execution_count": 9,
   "id": "32a498b3",
   "metadata": {},
   "outputs": [
    {
     "name": "stdout",
     "output_type": "stream",
     "text": [
      "root\n",
      " |-- Name: string (nullable = true)\n",
      " |-- age: integer (nullable = true)\n",
      " |-- Experience: integer (nullable = true)\n",
      " |-- Salary: integer (nullable = true)\n",
      "\n"
     ]
    }
   ],
   "source": [
    "training.printSchema()"
   ]
  },
  {
   "cell_type": "code",
   "execution_count": 11,
   "id": "2ceb99d6",
   "metadata": {},
   "outputs": [
    {
     "data": {
      "text/plain": [
       "['Name', 'age', 'Experience', 'Salary']"
      ]
     },
     "execution_count": 11,
     "metadata": {},
     "output_type": "execute_result"
    }
   ],
   "source": [
    "training.columns"
   ]
  },
  {
   "cell_type": "code",
   "execution_count": 17,
   "id": "94981d4e",
   "metadata": {},
   "outputs": [],
   "source": [
    "from pyspark.ml.feature import VectorAssembler\n",
    "# 독립변수 선언\n",
    "feature_assembler=VectorAssembler(inputCols=['age','Experience'],outputCol='Independent feature')"
   ]
  },
  {
   "cell_type": "code",
   "execution_count": 15,
   "id": "1ff818d6",
   "metadata": {},
   "outputs": [],
   "source": [
    "output=feature_assembler.transform(training)"
   ]
  },
  {
   "cell_type": "code",
   "execution_count": 19,
   "id": "006a045d",
   "metadata": {},
   "outputs": [
    {
     "name": "stdout",
     "output_type": "stream",
     "text": [
      "+----+---+----------+------+-------------------+\n",
      "|Name|age|Experience|Salary|Independent feature|\n",
      "+----+---+----------+------+-------------------+\n",
      "|   A| 20|         2| 30000|         [20.0,2.0]|\n",
      "|   B| 32|         1| 20000|         [32.0,1.0]|\n",
      "|   C| 25|         3| 10000|         [25.0,3.0]|\n",
      "|   D| 40|         5| 32000|         [40.0,5.0]|\n",
      "|   E| 30|         1| 14000|         [30.0,1.0]|\n",
      "|   F| 14|         3| 30000|         [14.0,3.0]|\n",
      "+----+---+----------+------+-------------------+\n",
      "\n"
     ]
    }
   ],
   "source": [
    "#두 열을 묶어버림\n",
    "output.show()"
   ]
  },
  {
   "cell_type": "code",
   "execution_count": 18,
   "id": "b202ea3d",
   "metadata": {},
   "outputs": [
    {
     "data": {
      "text/plain": [
       "['Name', 'age', 'Experience', 'Salary', 'Independent feature']"
      ]
     },
     "execution_count": 18,
     "metadata": {},
     "output_type": "execute_result"
    }
   ],
   "source": [
    "output.columns"
   ]
  },
  {
   "cell_type": "code",
   "execution_count": 20,
   "id": "57cd64e0",
   "metadata": {},
   "outputs": [],
   "source": [
    "final_data=output.select(\"Independent feature\",\"Salary\")"
   ]
  },
  {
   "cell_type": "code",
   "execution_count": 21,
   "id": "a62b594b",
   "metadata": {},
   "outputs": [
    {
     "name": "stdout",
     "output_type": "stream",
     "text": [
      "+-------------------+------+\n",
      "|Independent feature|Salary|\n",
      "+-------------------+------+\n",
      "|         [20.0,2.0]| 30000|\n",
      "|         [32.0,1.0]| 20000|\n",
      "|         [25.0,3.0]| 10000|\n",
      "|         [40.0,5.0]| 32000|\n",
      "|         [30.0,1.0]| 14000|\n",
      "|         [14.0,3.0]| 30000|\n",
      "+-------------------+------+\n",
      "\n"
     ]
    }
   ],
   "source": [
    "final_data.show()"
   ]
  },
  {
   "cell_type": "code",
   "execution_count": 29,
   "id": "c4695eec",
   "metadata": {},
   "outputs": [],
   "source": [
    "from pyspark.ml.regression import LinearRegression\n",
    "train_data, test_data = final_data.randomSplit([7.5, 2.5])"
   ]
  },
  {
   "cell_type": "code",
   "execution_count": 30,
   "id": "f6e89ad9",
   "metadata": {},
   "outputs": [],
   "source": [
    "regressor=LinearRegression(featuresCol=\"Independent feature\",labelCol='Salary')\n",
    "regressor= regressor.fit(train_data)"
   ]
  },
  {
   "cell_type": "code",
   "execution_count": 31,
   "id": "ca238c9c",
   "metadata": {},
   "outputs": [
    {
     "data": {
      "text/plain": [
       "DenseVector([-103.4483, 3482.7586])"
      ]
     },
     "execution_count": 31,
     "metadata": {},
     "output_type": "execute_result"
    }
   ],
   "source": [
    "regressor.coefficients"
   ]
  },
  {
   "cell_type": "code",
   "execution_count": 32,
   "id": "446b8a58",
   "metadata": {},
   "outputs": [
    {
     "data": {
      "text/plain": [
       "14896.551724137966"
      ]
     },
     "execution_count": 32,
     "metadata": {},
     "output_type": "execute_result"
    }
   ],
   "source": [
    "regressor.intercept"
   ]
  },
  {
   "cell_type": "code",
   "execution_count": 34,
   "id": "3782fd36",
   "metadata": {},
   "outputs": [],
   "source": [
    "#예측\n",
    "pred=regressor.evaluate(test_data)"
   ]
  },
  {
   "cell_type": "code",
   "execution_count": 35,
   "id": "87a2a273",
   "metadata": {},
   "outputs": [
    {
     "name": "stdout",
     "output_type": "stream",
     "text": [
      "+-------------------+------+------------------+\n",
      "|Independent feature|Salary|        prediction|\n",
      "+-------------------+------+------------------+\n",
      "|         [14.0,3.0]| 30000|23896.551724137957|\n",
      "|         [32.0,1.0]| 20000|15068.965517241373|\n",
      "+-------------------+------+------------------+\n",
      "\n"
     ]
    }
   ],
   "source": [
    "pred.predictions.show()"
   ]
  },
  {
   "cell_type": "code",
   "execution_count": 36,
   "id": "49a00ade",
   "metadata": {},
   "outputs": [
    {
     "data": {
      "text/plain": [
       "(5517.241379310335, 30783590.963138994)"
      ]
     },
     "execution_count": 36,
     "metadata": {},
     "output_type": "execute_result"
    }
   ],
   "source": [
    "pred.meanAbsoluteError,pred.meanSquaredError"
   ]
  }
 ],
 "metadata": {
  "kernelspec": {
   "display_name": "Python 3 (ipykernel)",
   "language": "python",
   "name": "python3"
  },
  "language_info": {
   "codemirror_mode": {
    "name": "ipython",
    "version": 3
   },
   "file_extension": ".py",
   "mimetype": "text/x-python",
   "name": "python",
   "nbconvert_exporter": "python",
   "pygments_lexer": "ipython3",
   "version": "3.9.12"
  }
 },
 "nbformat": 4,
 "nbformat_minor": 5
}
